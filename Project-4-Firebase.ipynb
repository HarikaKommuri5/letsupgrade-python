{
 "cells": [
  {
   "cell_type": "code",
   "execution_count": 6,
   "metadata": {},
   "outputs": [],
   "source": [
    "import firebase_admin"
   ]
  },
  {
   "cell_type": "code",
   "execution_count": 7,
   "metadata": {},
   "outputs": [],
   "source": [
    "from firebase_admin import credentials\n",
    "from firebase_admin import firestore"
   ]
  },
  {
   "cell_type": "code",
   "execution_count": 8,
   "metadata": {},
   "outputs": [
    {
     "data": {
      "text/plain": [
       "<firebase_admin.App at 0x2260eade490>"
      ]
     },
     "execution_count": 8,
     "metadata": {},
     "output_type": "execute_result"
    }
   ],
   "source": [
    "cred = credentials.Certificate(\"project-4-letsupgrade-93f64-firebase-adminsdk-evhvc-945226fd3d.json\")\n",
    "firebase_admin.initialize_app(cred)"
   ]
  },
  {
   "cell_type": "code",
   "execution_count": 9,
   "metadata": {},
   "outputs": [],
   "source": [
    "db = firestore.client()"
   ]
  },
  {
   "cell_type": "code",
   "execution_count": 10,
   "metadata": {},
   "outputs": [],
   "source": [
    "def enterDataInDb(name,lastname,age):\n",
    "    doc_ref = db.collection(u'letsupgradeusers').document()\n",
    "    dit ={}\n",
    "    dit[\"first name\"] = name\n",
    "    dit[\"last name\"] = lastname\n",
    "    dit[\"age\"]  = age\n",
    "    doc_ref.set(dit)\n"
   ]
  },
  {
   "cell_type": "code",
   "execution_count": 11,
   "metadata": {},
   "outputs": [],
   "source": [
    "enterDataInDb(\"Harika\",\"Kommuri\",20)"
   ]
  },
  {
   "cell_type": "code",
   "execution_count": 12,
   "metadata": {},
   "outputs": [],
   "source": [
    "enterDataInDb(\"Mrudula\",\"Abc\",16)"
   ]
  },
  {
   "cell_type": "code",
   "execution_count": 14,
   "metadata": {},
   "outputs": [],
   "source": [
    "enterDataInDb(\"Harry\",\"Potter\",30)"
   ]
  },
  {
   "cell_type": "code",
   "execution_count": 15,
   "metadata": {},
   "outputs": [],
   "source": [
    "enterDataInDb(\"Hermoine\",\"Granger\",20)"
   ]
  },
  {
   "cell_type": "code",
   "execution_count": 16,
   "metadata": {},
   "outputs": [],
   "source": [
    "enterDataInDb(\"Ronald\",\"Wiselly\",30)"
   ]
  },
  {
   "cell_type": "code",
   "execution_count": 17,
   "metadata": {},
   "outputs": [
    {
     "name": "stdout",
     "output_type": "stream",
     "text": [
      "Id - NsNtg7lI5fidMSSt63PW\n",
      "First name - Harry\n",
      "Last name - Potter\n",
      "Age - 30\n",
      "---------------\n",
      "---------------\n",
      "Id - VNzEuxFZ9oAckOcKBrar\n",
      "First name - Mrudula\n",
      "Last name - Abc\n",
      "Age - 16\n",
      "---------------\n",
      "---------------\n",
      "Id - frICSbPEh8cXzEebQHVR\n",
      "First name - Harika\n",
      "Last name - Kommuri\n",
      "Age - 20\n",
      "---------------\n",
      "---------------\n",
      "Id - nuRRGIK7V4n3r0hSJp5o\n",
      "First name - Ronald\n",
      "Last name - Wiselly\n",
      "Age - 30\n",
      "---------------\n",
      "---------------\n",
      "Id - xMORWVN6oURjtGV2j4Tm\n",
      "First name - Hermoine\n",
      "Last name - Granger\n",
      "Age - 20\n",
      "---------------\n",
      "---------------\n"
     ]
    }
   ],
   "source": [
    "docs = db.collection(u'letsupgradeusers').stream()\n",
    "\n",
    "for doc in docs:\n",
    "    \n",
    "    \n",
    "    print(\"Id -\",doc.id)\n",
    "    \n",
    "    print(\"First name -\",doc.to_dict().get(\"first name\"))\n",
    "    print(\"Last name -\",doc.to_dict().get(\"last name\"))\n",
    "    print(\"Age -\",doc.to_dict().get(\"age\"))\n",
    "    \n",
    "    print(\"---------------\")\n",
    "    print(\"---------------\")"
   ]
  },
  {
   "cell_type": "code",
   "execution_count": 18,
   "metadata": {},
   "outputs": [],
   "source": [
    "def updateDatainFirebase(uid,updatedAge):\n",
    "    doc_ref = db.collection(u'letsupgradeusers').document(uid)\n",
    "   \n",
    "    doc_ref.update({\"age\": updatedAge})"
   ]
  },
  {
   "cell_type": "code",
   "execution_count": 19,
   "metadata": {},
   "outputs": [],
   "source": [
    "updateDatainFirebase(\"xMORWVN6oURjtGV2j4Tm\",27)"
   ]
  },
  {
   "cell_type": "code",
   "execution_count": 20,
   "metadata": {},
   "outputs": [],
   "source": [
    "updateDatainFirebase(\"VNzEuxFZ9oAckOcKBrar\",17)"
   ]
  },
  {
   "cell_type": "code",
   "execution_count": 21,
   "metadata": {},
   "outputs": [
    {
     "name": "stdout",
     "output_type": "stream",
     "text": [
      "Id - NsNtg7lI5fidMSSt63PW\n",
      "First name - Harry\n",
      "Last name - Potter\n",
      "Age - 30\n",
      "---------------\n",
      "---------------\n",
      "Id - VNzEuxFZ9oAckOcKBrar\n",
      "First name - Mrudula\n",
      "Last name - Abc\n",
      "Age - 17\n",
      "---------------\n",
      "---------------\n",
      "Id - frICSbPEh8cXzEebQHVR\n",
      "First name - Harika\n",
      "Last name - Kommuri\n",
      "Age - 20\n",
      "---------------\n",
      "---------------\n",
      "Id - nuRRGIK7V4n3r0hSJp5o\n",
      "First name - Ronald\n",
      "Last name - Wiselly\n",
      "Age - 30\n",
      "---------------\n",
      "---------------\n",
      "Id - xMORWVN6oURjtGV2j4Tm\n",
      "First name - Hermoine\n",
      "Last name - Granger\n",
      "Age - 27\n",
      "---------------\n",
      "---------------\n"
     ]
    }
   ],
   "source": [
    "docs = db.collection(u'letsupgradeusers').stream()\n",
    "\n",
    "for doc in docs:\n",
    "    \n",
    "    \n",
    "    print(\"Id -\",doc.id)\n",
    "    \n",
    "    print(\"First name -\",doc.to_dict().get(\"first name\"))\n",
    "    print(\"Last name -\",doc.to_dict().get(\"last name\"))\n",
    "    print(\"Age -\",doc.to_dict().get(\"age\"))\n",
    "    \n",
    "    print(\"---------------\")\n",
    "    print(\"---------------\")"
   ]
  },
  {
   "cell_type": "code",
   "execution_count": 22,
   "metadata": {},
   "outputs": [],
   "source": [
    "def deleteDataInFirebase(uid):\n",
    "    db.collection(u'letsupgradeusers').document(uid).delete()"
   ]
  },
  {
   "cell_type": "code",
   "execution_count": 23,
   "metadata": {},
   "outputs": [],
   "source": [
    "deleteDataInFirebase(\"frICSbPEh8cXzEebQHVR\")"
   ]
  },
  {
   "cell_type": "code",
   "execution_count": 24,
   "metadata": {},
   "outputs": [],
   "source": [
    "deleteDataInFirebase(\"VNzEuxFZ9oAckOcKBrar\")"
   ]
  },
  {
   "cell_type": "code",
   "execution_count": 25,
   "metadata": {},
   "outputs": [
    {
     "name": "stdout",
     "output_type": "stream",
     "text": [
      "Id - NsNtg7lI5fidMSSt63PW\n",
      "First name - Harry\n",
      "Last name - Potter\n",
      "Age - 30\n",
      "---------------\n",
      "---------------\n",
      "Id - nuRRGIK7V4n3r0hSJp5o\n",
      "First name - Ronald\n",
      "Last name - Wiselly\n",
      "Age - 30\n",
      "---------------\n",
      "---------------\n",
      "Id - xMORWVN6oURjtGV2j4Tm\n",
      "First name - Hermoine\n",
      "Last name - Granger\n",
      "Age - 27\n",
      "---------------\n",
      "---------------\n"
     ]
    }
   ],
   "source": [
    "docs = db.collection(u'letsupgradeusers').stream()\n",
    "\n",
    "for doc in docs:\n",
    "    \n",
    "    \n",
    "    print(\"Id -\",doc.id)\n",
    "    \n",
    "    print(\"First name -\",doc.to_dict().get(\"first name\"))\n",
    "    print(\"Last name -\",doc.to_dict().get(\"last name\"))\n",
    "    print(\"Age -\",doc.to_dict().get(\"age\"))\n",
    "    \n",
    "    print(\"---------------\")\n",
    "    print(\"---------------\")"
   ]
  },
  {
   "cell_type": "code",
   "execution_count": null,
   "metadata": {},
   "outputs": [],
   "source": []
  }
 ],
 "metadata": {
  "kernelspec": {
   "display_name": "Python 3",
   "language": "python",
   "name": "python3"
  },
  "language_info": {
   "codemirror_mode": {
    "name": "ipython",
    "version": 3
   },
   "file_extension": ".py",
   "mimetype": "text/x-python",
   "name": "python",
   "nbconvert_exporter": "python",
   "pygments_lexer": "ipython3",
   "version": "3.8.5"
  }
 },
 "nbformat": 4,
 "nbformat_minor": 4
}
