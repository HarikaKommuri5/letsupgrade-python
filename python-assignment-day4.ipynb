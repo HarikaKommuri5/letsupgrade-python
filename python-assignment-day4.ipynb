{
 "cells": [
  {
   "cell_type": "markdown",
   "metadata": {},
   "source": [
    "#  A PROGRAM IN PYTHON FOR OPENING AND WRITING  \"I LOVE LETSUPGRADE\" AND CLOSE IT READ IT AGAIN AND APPEND IT WITH SOME DATA AND CLOSE IT"
   ]
  },
  {
   "cell_type": "code",
   "execution_count": 7,
   "metadata": {},
   "outputs": [],
   "source": [
    "abc=open(\"heythere.txt\",'w')\n",
    "\n",
    "abc.write(\"I Love LetsUpgrade.\")\n",
    "\n",
    "abc.close()"
   ]
  },
  {
   "cell_type": "code",
   "execution_count": 8,
   "metadata": {},
   "outputs": [
    {
     "data": {
      "text/plain": [
       "'I Love LetsUpgrade.'"
      ]
     },
     "execution_count": 8,
     "metadata": {},
     "output_type": "execute_result"
    }
   ],
   "source": [
    "abc=open(\"heythere.txt\",'r')\n",
    "\n",
    "z=abc.read()\n",
    "\n",
    "abc.close()\n",
    "\n",
    "z"
   ]
  },
  {
   "cell_type": "code",
   "execution_count": 10,
   "metadata": {},
   "outputs": [
    {
     "name": "stdout",
     "output_type": "stream",
     "text": [
      "I Love LetsUpgrade.I am learning Python.\n"
     ]
    }
   ],
   "source": [
    "abc=open(\"heythere.txt\",'r+')\n",
    "\n",
    "print(abc.read())\n",
    "\n",
    "abc.write(\"I am learning Python.\")\n",
    "\n",
    "abc.close()"
   ]
  },
  {
   "cell_type": "markdown",
   "metadata": {},
   "source": [
    "# FUNCTION WHICH CAN RETURN A FACTORIAL OF ANY NUMBERS AS INPUT"
   ]
  },
  {
   "cell_type": "code",
   "execution_count": 15,
   "metadata": {},
   "outputs": [
    {
     "name": "stdout",
     "output_type": "stream",
     "text": [
      "Enter a number5\n",
      "Factorial of 5 is 120\n"
     ]
    }
   ],
   "source": [
    "def factorial(num):\n",
    "    if num == 1:\n",
    "        return num\n",
    "    else:\n",
    "        return num*factorial(num-1)\n",
    "num=int(input(\"Enter a number\"))\n",
    "if num<0:\n",
    "    print(\"Factorial cannot be found for negative numbers\")\n",
    "elif num == 0:\n",
    "    print(\"Factorial for 0 is 1\")\n",
    "else:\n",
    "    print(\"Factorial of\",num,\"is\",factorial(num))\n",
    "\n",
    "        "
   ]
  },
  {
   "cell_type": "code",
   "execution_count": null,
   "metadata": {},
   "outputs": [],
   "source": []
  }
 ],
 "metadata": {
  "kernelspec": {
   "display_name": "Python 3",
   "language": "python",
   "name": "python3"
  },
  "language_info": {
   "codemirror_mode": {
    "name": "ipython",
    "version": 3
   },
   "file_extension": ".py",
   "mimetype": "text/x-python",
   "name": "python",
   "nbconvert_exporter": "python",
   "pygments_lexer": "ipython3",
   "version": "3.8.5"
  }
 },
 "nbformat": 4,
 "nbformat_minor": 4
}
